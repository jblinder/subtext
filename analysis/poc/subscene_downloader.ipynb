{
 "cells": [
  {
   "cell_type": "code",
   "execution_count": 15,
   "metadata": {},
   "outputs": [],
   "source": [
    "from selenium import webdriver\n",
    "from selenium.webdriver.common.keys import Keys\n",
    "import time\n",
    "\n",
    "import os\n",
    "chromedriver = \"/Users/justinblinder/dev/drivers/chromedriver\" # path to the chromedriver executable\n",
    "os.environ[\"webdriver.chrome.driver\"] = chromedriver\n",
    "\n",
    "driver = webdriver.Chrome(chromedriver)\n",
    "driver.get(\"https://subscene.com/\")\n"
   ]
  },
  {
   "cell_type": "code",
   "execution_count": 16,
   "metadata": {},
   "outputs": [],
   "source": [
    "'''Main subtitle search page'''\n",
    "film_title = \"almost famous\"\n",
    "form_input = driver.find_element_by_name(\"q\")\n",
    "form_input.send_keys(film_title)\n"
   ]
  },
  {
   "cell_type": "code",
   "execution_count": 17,
   "metadata": {},
   "outputs": [],
   "source": [
    "'''Search for film'''\n",
    "form_input.send_keys(Keys.RETURN)"
   ]
  },
  {
   "cell_type": "code",
   "execution_count": 18,
   "metadata": {},
   "outputs": [],
   "source": [
    "'''Similar film list page'''\n",
    "link = driver.find_element_by_xpath('//h2[text()=\"Exact\"]/following-sibling::ul/descendant::div[@class=\"title\"]/descendant::a')\n",
    "link.click()"
   ]
  },
  {
   "cell_type": "code",
   "execution_count": 19,
   "metadata": {},
   "outputs": [],
   "source": [
    "from selenium.common.exceptions import NoSuchElementException  \n",
    "'''Individual film subtitle list page'''\n",
    "\n",
    "def check_exists_by_xpath(el,xpath):\n",
    "    try:\n",
    "        el.find_element_by_xpath(xpath)\n",
    "    except NoSuchElementException:\n",
    "        return False\n",
    "    return True\n",
    "\n",
    "# Find all engish subtitles and click first one\n",
    "\n",
    "english_selector = '//a[contains(@href,\"english\")]'\n",
    "subtitle_links = driver.find_elements_by_xpath(english_selector)\n",
    "valid_links = []\n",
    "for link in subtitle_links:\n",
    "    is_quality = check_exists_by_xpath(link,'span[contains(@class,\"positive-icon\")]')\n",
    "    hearing_impaired_el = link.find_element_by_xpath('../following-sibling::td/following-sibling::td')     \n",
    "    is_hearing_impaired = False if hearing_impaired_el.get_attribute('class') == \"a40\" else True\n",
    "    if is_quality is True and is_hearing_impaired is False:\n",
    "        valid_links.append(link)\n"
   ]
  },
  {
   "cell_type": "code",
   "execution_count": 20,
   "metadata": {},
   "outputs": [],
   "source": [
    "valid_links[0].click()"
   ]
  },
  {
   "cell_type": "code",
   "execution_count": 22,
   "metadata": {},
   "outputs": [
    {
     "data": {
      "text/plain": [
       "'https://subscene.com/subtitles/english-text/WPRCQ8KF4IkmWuiNS1gWxLch0gPg-lgfrfOKjTx-PLR5wtbH1a8kRC-6LR2Oo2Wq-3iq1bh5-gJxVKRk5nxllKHsIaqfsn1md9ua9pQYsNlyKYox9CrlVPRFuD45JXzQ0'"
      ]
     },
     "execution_count": 22,
     "metadata": {},
     "output_type": "execute_result"
    }
   ],
   "source": [
    "download_button = driver.find_element_by_id('downloadButton')\n",
    "# if link is zip then click, else go back to revious page and get a new one\n",
    "#download_button.click()\n",
    "href = download_button.get_attribute('href')\n",
    "href"
   ]
  },
  {
   "cell_type": "code",
   "execution_count": 25,
   "metadata": {},
   "outputs": [],
   "source": [
    "\n",
    "    # add missing support for chrome \"send_command\"  to selenium webdriver\n",
    "driver.command_executor._commands[\"send_command\"] = (\"POST\", '/session/$sessionId/chromium/send_command')\n",
    "\n",
    "params = {'cmd': 'Page.setDownloadBehavior', 'params': {'behavior': 'allow', 'downloadPath': '/Users/justinblinder/Downloads/srt/'}}\n",
    "command_result = driver.execute(\"send_command\", params)"
   ]
  },
  {
   "cell_type": "code",
   "execution_count": 26,
   "metadata": {},
   "outputs": [],
   "source": [
    "download_button.click()"
   ]
  },
  {
   "cell_type": "code",
   "execution_count": null,
   "metadata": {},
   "outputs": [],
   "source": []
  }
 ],
 "metadata": {
  "kernelspec": {
   "display_name": "Python 3",
   "language": "python",
   "name": "python3"
  },
  "language_info": {
   "codemirror_mode": {
    "name": "ipython",
    "version": 3
   },
   "file_extension": ".py",
   "mimetype": "text/x-python",
   "name": "python",
   "nbconvert_exporter": "python",
   "pygments_lexer": "ipython3",
   "version": "3.6.4"
  }
 },
 "nbformat": 4,
 "nbformat_minor": 2
}
