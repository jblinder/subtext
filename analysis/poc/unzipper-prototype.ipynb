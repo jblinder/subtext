{
 "cells": [
  {
   "cell_type": "code",
   "execution_count": 5,
   "metadata": {},
   "outputs": [
    {
     "name": "stdout",
     "output_type": "stream",
     "text": [
      "/Users/justinblinder/Downloads/almost famous 1231231312.zip\n",
      "/Users/justinblinder/Downloads/almost famous 1231231312.zip\n"
     ]
    }
   ],
   "source": [
    "from selenium import webdriver\n",
    "from selenium.webdriver.common.keys import Keys\n",
    "from selenium.common.exceptions import NoSuchElementException  \n",
    "from selenium.webdriver.chrome.options import Options\n",
    "import time\n",
    "import os\n",
    "import zipfile\n",
    "from os import listdir\n",
    "from os.path import isfile, join\n",
    "from urllib.request import urlretrieve\n",
    "film_title = \"almost famous\"\n",
    "# list files in dir (should only be one)\n",
    "download_path = '/Users/justinblinder/Downloads/'\n",
    "\n",
    "def unzip(filename):\n",
    "    # unzip file to srt dir\n",
    "    print(filename)\n",
    "    zip_ref = zipfile.ZipFile(filename, 'r')\n",
    "    zip_ref.extractall(download_path)\n",
    "    zip_ref.close()\n",
    "\n",
    "    # move zip to archive folder\n",
    "    os.rename(filename, download_path+\"archive/\"+film_title.replace(' ','-').replace(':','')+'.zip')\n",
    "\n",
    "    # get unzipped srt file\n",
    "    #onlyfiles = [f for f in listdir(download_path) if isfile(join(download_path, f))]\n",
    "    #filename = onlyfiles[0]\n",
    "    srtfile = None\n",
    "    for file in os.listdir(download_path):\n",
    "        if file.endswith(\".srt\"):\n",
    "            srtfile = os.path.join(download_path, file)\n",
    "            os.rename(srtfile , download_path + \"srt/\"+film_title.replace(' ','-').replace(':','')+'.srt')\n",
    "    \n",
    "    # move zip to archive folder\n",
    "\n",
    "for file in os.listdir(download_path):\n",
    "    if file.endswith(\".zip\"):\n",
    "        filename = os.path.join(download_path, file)\n",
    "        print(filename)\n",
    "        unzip(filename)\n"
   ]
  },
  {
   "cell_type": "code",
   "execution_count": null,
   "metadata": {},
   "outputs": [],
   "source": []
  },
  {
   "cell_type": "code",
   "execution_count": null,
   "metadata": {},
   "outputs": [],
   "source": []
  }
 ],
 "metadata": {
  "kernelspec": {
   "display_name": "Python 3",
   "language": "python",
   "name": "python3"
  },
  "language_info": {
   "codemirror_mode": {
    "name": "ipython",
    "version": 3
   },
   "file_extension": ".py",
   "mimetype": "text/x-python",
   "name": "python",
   "nbconvert_exporter": "python",
   "pygments_lexer": "ipython3",
   "version": "3.6.4"
  }
 },
 "nbformat": 4,
 "nbformat_minor": 2
}
