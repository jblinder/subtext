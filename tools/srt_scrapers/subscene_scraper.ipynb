{
 "cells": [
  {
   "cell_type": "code",
   "execution_count": 1,
   "metadata": {},
   "outputs": [],
   "source": [
    "from selenium import webdriver\n",
    "from selenium.webdriver.common.keys import Keys\n",
    "from selenium.common.exceptions import NoSuchElementException  \n",
    "from selenium.webdriver.chrome.options import Options\n",
    "import time\n",
    "import os\n",
    "import zipfile\n",
    "from os import listdir\n",
    "from os.path import isfile, join\n",
    "from urllib.request import urlretrieve\n",
    "\n",
    "\n",
    "chromedriver = \"/Users/justinblinder/dev/drivers/chromedriver\" # path to the chromedriver executable\n",
    "os.environ[\"webdriver.chrome.driver\"] = chromedriver\n",
    "\n",
    "'''instantiate a chrome options object so you can set the size and headless preference'''\n",
    "chrome_options = Options()\n",
    "chrome_options.add_argument(\"--headless\")\n",
    "\n",
    "''' add missing support for chrome \"send_command\"  to selenium webdriver (https://stackoverflow.com/a/47366981/190155)'''\n",
    "#driver.command_executor._commands[\"send_command\"] = (\"POST\", '/session/$sessionId/chromium/send_command')\n",
    "#params = {'cmd': 'Page.setDownloadBehavior', 'params': {'behavior': 'allow', 'downloadPath': '/Users/justinblinder/Downloads/srt/'}}\n",
    "#command_result = driver.execute(\"send_command\", params)\n",
    "\n",
    "driver = webdriver.Chrome(chromedriver,chrome_options=chrome_options)\n",
    "#driver = webdriver.Chrome(chromedriver)\n",
    "driver.get(\"https://subscene.com/\")\n",
    "\n",
    "# set wait time\n",
    "driver.implicitly_wait(4) "
   ]
  },
  {
   "cell_type": "code",
   "execution_count": 2,
   "metadata": {},
   "outputs": [
    {
     "name": "stdout",
     "output_type": "stream",
     "text": [
      "almost famous\n",
      "black panther\n",
      "Star Wars: The Last Jedi\n",
      "Rogue One\n",
      "{'almost famous': 'https://subscene.com/subtitles/english-text/aXOOPLmznQbSR_7DfxyqWlzal1dwtVpfkvKAmh2NOVLiWfJb30OU4o6dBTmOebfTTHdKQ7Z2e1mK4Sg8GK-3OQ__iiDlQsRZrHFjLhv1rxFzSY98FcQ30RsUrJ46QI1s0', 'black panther': 'https://subscene.com/subtitles/english-text/7EkrqvM5HhCPcIjGR36JDiRhpfmGUgUCEgj8FmNaFXe3czLC4cC0JomNe5oflPmJDUtzodsEZq-dbPxQTCPUWiEdGkIhIdi_214HTvHBCWaApcPa42o9IEtjz4gL118Z0', 'Star Wars: The Last Jedi': 'https://subscene.com/subtitles/english-text/d7tGza9-ItfwzecaVzt1ZOXuCfgg27G9nh7a5Q-2zAl2TzEZnaLsxu3-y9-kNOHSn1aPsveWYnWUkQlT67hGwJsye9IF-Jbe68H5GRQFeRNvknZv217wjLn0nqPHhj940', 'Rogue One': 'https://subscene.com/subtitles/english-text/-7CO17-GnAZaB2Ew5TfMbnJ9vktQnwjgl4NtqpBFBeoDN8QmEfa5zeDgpRI7o3VvxuNgIWSSkY77jh1E8vOXR0L2KNNjOWkJzcXy5Jm5sliEy49Cjz4J3nTxhqReCnMm0'}\n"
     ]
    }
   ],
   "source": [
    "'''Collect a download url for each film'''\n",
    "# Chrome headless mode does not allow dowloading files\n",
    "# Cannot curl file url because it's a cloudflare redirect\n",
    "\n",
    "download_path = '/Users/justinblinder/Downloads/'\n",
    "download_links = {}\n",
    "\n",
    "'''Main subtitle search page'''\n",
    "def search_film(film_title):\n",
    "    form_input = driver.find_element_by_name(\"q\")\n",
    "    form_input.send_keys(film_title)\n",
    "    '''Search for film'''\n",
    "    form_input.send_keys(Keys.RETURN)\n",
    "    get_filtered_film(film_title)\n",
    "\n",
    "def get_filtered_film(film_title):\n",
    "    '''Similar film list page'''\n",
    "    link = driver.find_element_by_xpath('//h2[text()=\"Exact\"]/following-sibling::ul/descendant::div[@class=\"title\"]/descendant::a')\n",
    "    link.click()\n",
    "    search_subtitles(film_title)\n",
    "\n",
    "\n",
    "def check_exists_by_xpath(el,xpath):\n",
    "    try:\n",
    "        el.find_element_by_xpath(xpath)\n",
    "    except NoSuchElementException:\n",
    "        return False\n",
    "    return True\n",
    "\n",
    "'''Individual film subtitle list page'''\n",
    "\n",
    "\"\"\"Find all engish subtitles that have a quality flag and aren't for hearing impaired\"\"\"\n",
    "def search_subtitles(film_title):\n",
    "    english_selector = '//a[contains(@href,\"english\")]'\n",
    "    subtitle_links = driver.find_elements_by_xpath(english_selector)\n",
    "    valid_links = []\n",
    "    for link in subtitle_links:\n",
    "        is_quality = check_exists_by_xpath(link,'span[contains(@class,\"positive-icon\")]')\n",
    "        hearing_impaired_el = link.find_element_by_xpath('../following-sibling::td/following-sibling::td')     \n",
    "        is_hearing_impaired = False if hearing_impaired_el.get_attribute('class') == \"a40\" else True\n",
    "        if is_quality is True and is_hearing_impaired is False:\n",
    "            valid_links.append(link)\n",
    "    valid_links[0].click()\n",
    "    get_download_link(film_title)\n",
    "    \n",
    "'''Find and click download link'''\n",
    "def get_download_link(film_title):\n",
    "    download_button = driver.find_element_by_id('downloadButton')\n",
    "    # TODO: if link is zip then click, else go back to revious page and get a new one\n",
    "    download_links[film_title] = download_button.get_attribute('href')\n",
    "    download_button.click()\n",
    "    unzip_file(film_title)\n",
    "\n",
    "''' Locally unzip file'''\n",
    "def unzip_file(film_title):\n",
    "    time.sleep(2)\n",
    "    for file in os.listdir(download_path):\n",
    "        if file.endswith(\".zip\"):\n",
    "            filename = os.path.join(download_path, file)\n",
    "            unzip(filename,film_title)\n",
    "    driver.get(\"https://subscene.com/\")\n",
    "    \n",
    "''' Rename unzipped srt file / zip file and mov to seperate folders'''\n",
    "def unzip(filename,film_title):\n",
    "    # unzip file to srt dir\n",
    "    zip_ref = zipfile.ZipFile(filename, 'r')\n",
    "    zip_ref.extractall(download_path)\n",
    "    zip_ref.close()\n",
    "\n",
    "    # move zip to archive folder\n",
    "    os.rename(filename, download_path+\"archive/\"+film_title.replace(' ','-').replace(':','')+'.zip')\n",
    "\n",
    "    # get unzipped srt file\n",
    "    srtfile = None\n",
    "    for file in os.listdir(download_path):\n",
    "        if file.endswith(\".srt\"):\n",
    "            srtfile = os.path.join(download_path, file)\n",
    "            os.rename(srtfile , download_path + \"srt/\"+film_title.replace(' ','-').replace(':','')+'.srt')\n",
    "\n",
    "\n",
    "        \n",
    "films = [\"almost famous\", 'black panther','Star Wars: The Last Jedi','Rogue One']\n",
    "for film in films:\n",
    "    print(film)\n",
    "    film_title = film\n",
    "    search_film(film_title)\n",
    "    \n",
    "print(download_links)\n",
    "\n"
   ]
  },
  {
   "cell_type": "code",
   "execution_count": 8,
   "metadata": {},
   "outputs": [
    {
     "ename": "TimeoutException",
     "evalue": "Message: timeout\n  (Session info: chrome=65.0.3325.181)\n  (Driver info: chromedriver=2.37.544337 (8c0344a12e552148c185f7d5117db1f28d6c9e85),platform=Mac OS X 10.13.4 x86_64)\n",
     "output_type": "error",
     "traceback": [
      "\u001b[0;31m---------------------------------------------------------------------------\u001b[0m",
      "\u001b[0;31mTimeoutException\u001b[0m                          Traceback (most recent call last)",
      "\u001b[0;32m<ipython-input-8-8f173d6d6c76>\u001b[0m in \u001b[0;36m<module>\u001b[0;34m()\u001b[0m\n\u001b[1;32m      3\u001b[0m \u001b[0mtime\u001b[0m\u001b[0;34m.\u001b[0m\u001b[0msleep\u001b[0m\u001b[0;34m(\u001b[0m\u001b[0;36m10\u001b[0m\u001b[0;34m)\u001b[0m\u001b[0;34m\u001b[0m\u001b[0m\n\u001b[1;32m      4\u001b[0m \u001b[0;32mfor\u001b[0m \u001b[0mfilm_title\u001b[0m\u001b[0;34m,\u001b[0m \u001b[0murl\u001b[0m \u001b[0;32min\u001b[0m \u001b[0mdownload_links\u001b[0m\u001b[0;34m.\u001b[0m\u001b[0mitems\u001b[0m\u001b[0;34m(\u001b[0m\u001b[0;34m)\u001b[0m\u001b[0;34m:\u001b[0m\u001b[0;34m\u001b[0m\u001b[0m\n\u001b[0;32m----> 5\u001b[0;31m     \u001b[0mdriver\u001b[0m\u001b[0;34m.\u001b[0m\u001b[0mget\u001b[0m\u001b[0;34m(\u001b[0m\u001b[0murl\u001b[0m\u001b[0;34m)\u001b[0m\u001b[0;34m\u001b[0m\u001b[0m\n\u001b[0m",
      "\u001b[0;32m~/anaconda3/lib/python3.6/site-packages/selenium/webdriver/remote/webdriver.py\u001b[0m in \u001b[0;36mget\u001b[0;34m(self, url)\u001b[0m\n\u001b[1;32m    322\u001b[0m         \u001b[0mLoads\u001b[0m \u001b[0ma\u001b[0m \u001b[0mweb\u001b[0m \u001b[0mpage\u001b[0m \u001b[0;32min\u001b[0m \u001b[0mthe\u001b[0m \u001b[0mcurrent\u001b[0m \u001b[0mbrowser\u001b[0m \u001b[0msession\u001b[0m\u001b[0;34m.\u001b[0m\u001b[0;34m\u001b[0m\u001b[0m\n\u001b[1;32m    323\u001b[0m         \"\"\"\n\u001b[0;32m--> 324\u001b[0;31m         \u001b[0mself\u001b[0m\u001b[0;34m.\u001b[0m\u001b[0mexecute\u001b[0m\u001b[0;34m(\u001b[0m\u001b[0mCommand\u001b[0m\u001b[0;34m.\u001b[0m\u001b[0mGET\u001b[0m\u001b[0;34m,\u001b[0m \u001b[0;34m{\u001b[0m\u001b[0;34m'url'\u001b[0m\u001b[0;34m:\u001b[0m \u001b[0murl\u001b[0m\u001b[0;34m}\u001b[0m\u001b[0;34m)\u001b[0m\u001b[0;34m\u001b[0m\u001b[0m\n\u001b[0m\u001b[1;32m    325\u001b[0m \u001b[0;34m\u001b[0m\u001b[0m\n\u001b[1;32m    326\u001b[0m     \u001b[0;34m@\u001b[0m\u001b[0mproperty\u001b[0m\u001b[0;34m\u001b[0m\u001b[0m\n",
      "\u001b[0;32m~/anaconda3/lib/python3.6/site-packages/selenium/webdriver/remote/webdriver.py\u001b[0m in \u001b[0;36mexecute\u001b[0;34m(self, driver_command, params)\u001b[0m\n\u001b[1;32m    310\u001b[0m         \u001b[0mresponse\u001b[0m \u001b[0;34m=\u001b[0m \u001b[0mself\u001b[0m\u001b[0;34m.\u001b[0m\u001b[0mcommand_executor\u001b[0m\u001b[0;34m.\u001b[0m\u001b[0mexecute\u001b[0m\u001b[0;34m(\u001b[0m\u001b[0mdriver_command\u001b[0m\u001b[0;34m,\u001b[0m \u001b[0mparams\u001b[0m\u001b[0;34m)\u001b[0m\u001b[0;34m\u001b[0m\u001b[0m\n\u001b[1;32m    311\u001b[0m         \u001b[0;32mif\u001b[0m \u001b[0mresponse\u001b[0m\u001b[0;34m:\u001b[0m\u001b[0;34m\u001b[0m\u001b[0m\n\u001b[0;32m--> 312\u001b[0;31m             \u001b[0mself\u001b[0m\u001b[0;34m.\u001b[0m\u001b[0merror_handler\u001b[0m\u001b[0;34m.\u001b[0m\u001b[0mcheck_response\u001b[0m\u001b[0;34m(\u001b[0m\u001b[0mresponse\u001b[0m\u001b[0;34m)\u001b[0m\u001b[0;34m\u001b[0m\u001b[0m\n\u001b[0m\u001b[1;32m    313\u001b[0m             response['value'] = self._unwrap_value(\n\u001b[1;32m    314\u001b[0m                 response.get('value', None))\n",
      "\u001b[0;32m~/anaconda3/lib/python3.6/site-packages/selenium/webdriver/remote/errorhandler.py\u001b[0m in \u001b[0;36mcheck_response\u001b[0;34m(self, response)\u001b[0m\n\u001b[1;32m    240\u001b[0m                 \u001b[0malert_text\u001b[0m \u001b[0;34m=\u001b[0m \u001b[0mvalue\u001b[0m\u001b[0;34m[\u001b[0m\u001b[0;34m'alert'\u001b[0m\u001b[0;34m]\u001b[0m\u001b[0;34m.\u001b[0m\u001b[0mget\u001b[0m\u001b[0;34m(\u001b[0m\u001b[0;34m'text'\u001b[0m\u001b[0;34m)\u001b[0m\u001b[0;34m\u001b[0m\u001b[0m\n\u001b[1;32m    241\u001b[0m             \u001b[0;32mraise\u001b[0m \u001b[0mexception_class\u001b[0m\u001b[0;34m(\u001b[0m\u001b[0mmessage\u001b[0m\u001b[0;34m,\u001b[0m \u001b[0mscreen\u001b[0m\u001b[0;34m,\u001b[0m \u001b[0mstacktrace\u001b[0m\u001b[0;34m,\u001b[0m \u001b[0malert_text\u001b[0m\u001b[0;34m)\u001b[0m\u001b[0;34m\u001b[0m\u001b[0m\n\u001b[0;32m--> 242\u001b[0;31m         \u001b[0;32mraise\u001b[0m \u001b[0mexception_class\u001b[0m\u001b[0;34m(\u001b[0m\u001b[0mmessage\u001b[0m\u001b[0;34m,\u001b[0m \u001b[0mscreen\u001b[0m\u001b[0;34m,\u001b[0m \u001b[0mstacktrace\u001b[0m\u001b[0;34m)\u001b[0m\u001b[0;34m\u001b[0m\u001b[0m\n\u001b[0m\u001b[1;32m    243\u001b[0m \u001b[0;34m\u001b[0m\u001b[0m\n\u001b[1;32m    244\u001b[0m     \u001b[0;32mdef\u001b[0m \u001b[0m_value_or_default\u001b[0m\u001b[0;34m(\u001b[0m\u001b[0mself\u001b[0m\u001b[0;34m,\u001b[0m \u001b[0mobj\u001b[0m\u001b[0;34m,\u001b[0m \u001b[0mkey\u001b[0m\u001b[0;34m,\u001b[0m \u001b[0mdefault\u001b[0m\u001b[0;34m)\u001b[0m\u001b[0;34m:\u001b[0m\u001b[0;34m\u001b[0m\u001b[0m\n",
      "\u001b[0;31mTimeoutException\u001b[0m: Message: timeout\n  (Session info: chrome=65.0.3325.181)\n  (Driver info: chromedriver=2.37.544337 (8c0344a12e552148c185f7d5117db1f28d6c9e85),platform=Mac OS X 10.13.4 x86_64)\n"
     ]
    }
   ],
   "source": [
    "driver = webdriver.Chrome(chromedriver)\n",
    "driver.get(\"https://subscene.com/\")\n",
    "time.sleep(10) # wait until cloudflare DDoS protect stops\n",
    "for film_title, url in download_links.items():\n",
    "    driver.get(url)"
   ]
  },
  {
   "cell_type": "code",
   "execution_count": 93,
   "metadata": {},
   "outputs": [],
   "source": [
    "#for film,url in download_links.items():\n",
    "#    clean_title = film.replace(' ','-').replace(':','')\n",
    "#    fullfilename = os.path.join('/Users/justinblinder/Downloads/srt/', clean_title + '.zip')\n",
    "#    urlretrieve(url, fullfilename)"
   ]
  },
  {
   "cell_type": "code",
   "execution_count": 94,
   "metadata": {},
   "outputs": [],
   "source": []
  },
  {
   "cell_type": "code",
   "execution_count": 96,
   "metadata": {},
   "outputs": [],
   "source": []
  },
  {
   "cell_type": "code",
   "execution_count": 97,
   "metadata": {},
   "outputs": [],
   "source": []
  },
  {
   "cell_type": "code",
   "execution_count": 98,
   "metadata": {},
   "outputs": [],
   "source": []
  },
  {
   "cell_type": "code",
   "execution_count": null,
   "metadata": {},
   "outputs": [],
   "source": []
  }
 ],
 "metadata": {
  "kernelspec": {
   "display_name": "Python 3",
   "language": "python",
   "name": "python3"
  },
  "language_info": {
   "codemirror_mode": {
    "name": "ipython",
    "version": 3
   },
   "file_extension": ".py",
   "mimetype": "text/x-python",
   "name": "python",
   "nbconvert_exporter": "python",
   "pygments_lexer": "ipython3",
   "version": "3.6.4"
  }
 },
 "nbformat": 4,
 "nbformat_minor": 2
}
