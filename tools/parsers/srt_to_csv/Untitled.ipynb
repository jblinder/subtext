{
 "cells": [
  {
   "cell_type": "code",
   "execution_count": 1,
   "metadata": {},
   "outputs": [
    {
     "name": "stdout",
     "output_type": "stream",
     "text": [
      "Populating the interactive namespace from numpy and matplotlib\n",
      "        id  startTime  endTime  \\\n",
      "0        1     272022   273689   \n",
      "1        2     278362   279737   \n",
      "2        3     308767   310810   \n",
      "3        4     310894   312937   \n",
      "4        5     313647   316649   \n",
      "5        6     318068   321737   \n",
      "6        7     321822   324573   \n",
      "7        8     324658   325950   \n",
      "8        9     326326   329078   \n",
      "9       10     329454   331914   \n",
      "10      11     331999   334583   \n",
      "11      12     334668   337086   \n",
      "...    ...        ...      ...   \n",
      "1882  1883    7303276  7305938   \n",
      "1883  1884    7311284  7314102   \n",
      "1884  1885    7314202  7317588   \n",
      "1885  1886    7455027  7457027   \n",
      "1886  1887    7457045  7461979   \n",
      "1887  1888    7462079  7465386   \n",
      "1888  1889    7465486  7469121   \n",
      "1889  1890    7469221  7472094   \n",
      "1890  1891    7472194  7476308   \n",
      "1891  1892    7477617  7480737   \n",
      "1892  1893    7482788  7485348   \n",
      "1893  1894    7489929  7492420   \n",
      "\n",
      "                                                   text       movie  \n",
      "0                                    Give me your hand!     Vertigo  \n",
      "1                                    Give me your hand.     Vertigo  \n",
      "2           I thought you said\\nno more aches or pains.     Vertigo  \n",
      "3              No, it's this\\ndarned corset.\\nIt binds.     Vertigo  \n",
      "4              No three-way stretch?\\nHow very un-chic.     Vertigo  \n",
      "5     You know those\\npolice department doctors.\\nNo...     Vertigo  \n",
      "6              Well, anyway,\\ntomorrow will be the day.     Vertigo  \n",
      "7                                 Why, what's tomorrow?     Vertigo  \n",
      "8             Tomorrow? The corset\\ncomes off tomorrow.     Vertigo  \n",
      "9     I'll be able to scratch myself\\nlike anybody e...     Vertigo  \n",
      "10     I'll throw this miserable\\nthing out the window.     Vertigo  \n",
      "11                    Be a free...\\nI'll be a free man.     Vertigo  \n",
      "...                                                 ...         ...  \n",
      "1882                                          Watch it.  12 Monkeys  \n",
      "1883                                                No.  12 Monkeys  \n",
      "1884                                            Freeze.  12 Monkeys  \n",
      "1885                                         Excuse me.  12 Monkeys  \n",
      "1886   It's obscene,\\nall the violence, all the lunacy.  12 Monkeys  \n",
      "1887                    Shootings even at airports now.  12 Monkeys  \n",
      "1888  You might say that we're\\nthe next endangered ...  12 Monkeys  \n",
      "1889                                      Human beings.  12 Monkeys  \n",
      "1890                       I think you're right, ma'am.  12 Monkeys  \n",
      "1891          I think you've hit\\nthe nail on the head.  12 Monkeys  \n",
      "1892                                  Jones is my name.  12 Monkeys  \n",
      "1893                                  I'm in insurance.  12 Monkeys  \n",
      "\n",
      "[3183 rows x 5 columns]\n"
     ]
    }
   ],
   "source": [
    "import pandas as pd\n",
    "import numpy as np\n",
    "import matplotlib.pyplot as plt\n",
    "import dateutil.parser\n",
    "import seaborn as sns\n",
    "from IPython.display import Image\n",
    "\n",
    "# enables inline plots, without it plots don't show up in the notebook\n",
    "%matplotlib inline\n",
    "%pylab inline\n",
    "\n",
    "''' Settings '''\n",
    "sns.set_style(\"white\")\n",
    "pd.set_option('display.max_columns', 25)\n",
    "pd.set_option('display.max_rows', 25)\n",
    "pd.set_option('display.precision', 3)\n",
    "\n",
    "''' Load and concatinate CSV files into single dataframe'''\n",
    "csv_names = ['/Users/justinblinder/Desktop/subtitles-parser-master/vertigo.csv','/Users/justinblinder/Desktop/subtitles-parser-master/12monkeys.csv']\n",
    "files=[]\n",
    "for path in csv_names:\n",
    "    files.append(\n",
    "        pd.read_csv(path)\n",
    "    )\n",
    "df = pd.concat(files)\n",
    "print(df)\n"
   ]
  },
  {
   "cell_type": "code",
   "execution_count": null,
   "metadata": {},
   "outputs": [],
   "source": [
    "df['duration'] = df['endTime'] - df[startTime]"
   ]
  }
 ],
 "metadata": {
  "kernelspec": {
   "display_name": "Python 3",
   "language": "python",
   "name": "python3"
  },
  "language_info": {
   "codemirror_mode": {
    "name": "ipython",
    "version": 3
   },
   "file_extension": ".py",
   "mimetype": "text/x-python",
   "name": "python",
   "nbconvert_exporter": "python",
   "pygments_lexer": "ipython3",
   "version": "3.6.4"
  }
 },
 "nbformat": 4,
 "nbformat_minor": 2
}
